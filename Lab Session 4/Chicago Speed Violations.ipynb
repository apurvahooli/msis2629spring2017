{
 "cells": [
  {
   "cell_type": "markdown",
   "metadata": {},
   "source": [
    "# Speed violations in Chicago"
   ]
  },
  {
   "cell_type": "markdown",
   "metadata": {},
   "source": [
    "In this lab session, we quickly wrangle a dataset and then move to Tableau."
   ]
  },
  {
   "cell_type": "markdown",
   "metadata": {},
   "source": [
    "We import the pandas library and enable multiple outputs."
   ]
  },
  {
   "cell_type": "code",
   "execution_count": 12,
   "metadata": {
    "collapsed": true
   },
   "outputs": [],
   "source": [
    "import pandas as pd\n",
    "from IPython.core.interactiveshell import InteractiveShell\n",
    "InteractiveShell.ast_node_interactivity = \"all\""
   ]
  },
  {
   "cell_type": "markdown",
   "metadata": {},
   "source": [
    "We have a look at the folder (adapt this to your OS)"
   ]
  },
  {
   "cell_type": "code",
   "execution_count": 13,
   "metadata": {
    "collapsed": false,
    "scrolled": true
   },
   "outputs": [
    {
     "name": "stdout",
     "output_type": "stream",
     "text": [
      "Speed_Camera_Violations.csv\r\n"
     ]
    }
   ],
   "source": [
    "!ls *.csv"
   ]
  },
  {
   "cell_type": "markdown",
   "metadata": {},
   "source": [
    "We load the data"
   ]
  },
  {
   "cell_type": "code",
   "execution_count": 23,
   "metadata": {
    "collapsed": true
   },
   "outputs": [],
   "source": [
    "data = pd.read_csv('Speed_Camera_Violations.csv')"
   ]
  },
  {
   "cell_type": "code",
   "execution_count": 24,
   "metadata": {
    "collapsed": false,
    "scrolled": true
   },
   "outputs": [
    {
     "data": {
      "text/html": [
       "<div>\n",
       "<table border=\"1\" class=\"dataframe\">\n",
       "  <thead>\n",
       "    <tr style=\"text-align: right;\">\n",
       "      <th></th>\n",
       "      <th>ADDRESS</th>\n",
       "      <th>CAMERA ID</th>\n",
       "      <th>VIOLATION DATE</th>\n",
       "      <th>VIOLATIONS</th>\n",
       "      <th>X COORDINATE</th>\n",
       "      <th>Y COORDINATE</th>\n",
       "      <th>LATITUDE</th>\n",
       "      <th>LONGITUDE</th>\n",
       "      <th>LOCATION</th>\n",
       "    </tr>\n",
       "  </thead>\n",
       "  <tbody>\n",
       "    <tr>\n",
       "      <th>0</th>\n",
       "      <td>7738 S WESTERN</td>\n",
       "      <td>CHI065</td>\n",
       "      <td>07/08/2014</td>\n",
       "      <td>65</td>\n",
       "      <td>NaN</td>\n",
       "      <td>NaN</td>\n",
       "      <td>NaN</td>\n",
       "      <td>NaN</td>\n",
       "      <td>NaN</td>\n",
       "    </tr>\n",
       "    <tr>\n",
       "      <th>1</th>\n",
       "      <td>1111 N HUMBOLDT</td>\n",
       "      <td>CHI010</td>\n",
       "      <td>07/16/2014</td>\n",
       "      <td>56</td>\n",
       "      <td>NaN</td>\n",
       "      <td>NaN</td>\n",
       "      <td>NaN</td>\n",
       "      <td>NaN</td>\n",
       "      <td>NaN</td>\n",
       "    </tr>\n",
       "    <tr>\n",
       "      <th>2</th>\n",
       "      <td>5520 S WESTERN</td>\n",
       "      <td>CHI069</td>\n",
       "      <td>07/08/2014</td>\n",
       "      <td>10</td>\n",
       "      <td>NaN</td>\n",
       "      <td>NaN</td>\n",
       "      <td>NaN</td>\n",
       "      <td>NaN</td>\n",
       "      <td>NaN</td>\n",
       "    </tr>\n",
       "    <tr>\n",
       "      <th>3</th>\n",
       "      <td>1111 N HUMBOLDT</td>\n",
       "      <td>CHI010</td>\n",
       "      <td>07/26/2014</td>\n",
       "      <td>101</td>\n",
       "      <td>NaN</td>\n",
       "      <td>NaN</td>\n",
       "      <td>NaN</td>\n",
       "      <td>NaN</td>\n",
       "      <td>NaN</td>\n",
       "    </tr>\n",
       "    <tr>\n",
       "      <th>4</th>\n",
       "      <td>1111 N HUMBOLDT</td>\n",
       "      <td>CHI010</td>\n",
       "      <td>07/27/2014</td>\n",
       "      <td>92</td>\n",
       "      <td>NaN</td>\n",
       "      <td>NaN</td>\n",
       "      <td>NaN</td>\n",
       "      <td>NaN</td>\n",
       "      <td>NaN</td>\n",
       "    </tr>\n",
       "  </tbody>\n",
       "</table>\n",
       "</div>"
      ],
      "text/plain": [
       "           ADDRESS CAMERA ID VIOLATION DATE  VIOLATIONS  X COORDINATE  \\\n",
       "0   7738 S WESTERN    CHI065     07/08/2014          65           NaN   \n",
       "1  1111 N HUMBOLDT    CHI010     07/16/2014          56           NaN   \n",
       "2   5520 S WESTERN    CHI069     07/08/2014          10           NaN   \n",
       "3  1111 N HUMBOLDT    CHI010     07/26/2014         101           NaN   \n",
       "4  1111 N HUMBOLDT    CHI010     07/27/2014          92           NaN   \n",
       "\n",
       "   Y COORDINATE  LATITUDE  LONGITUDE LOCATION  \n",
       "0           NaN       NaN        NaN      NaN  \n",
       "1           NaN       NaN        NaN      NaN  \n",
       "2           NaN       NaN        NaN      NaN  \n",
       "3           NaN       NaN        NaN      NaN  \n",
       "4           NaN       NaN        NaN      NaN  "
      ]
     },
     "execution_count": 24,
     "metadata": {},
     "output_type": "execute_result"
    },
    {
     "data": {
      "text/html": [
       "<div>\n",
       "<table border=\"1\" class=\"dataframe\">\n",
       "  <thead>\n",
       "    <tr style=\"text-align: right;\">\n",
       "      <th></th>\n",
       "      <th>ADDRESS</th>\n",
       "      <th>CAMERA ID</th>\n",
       "      <th>VIOLATION DATE</th>\n",
       "      <th>VIOLATIONS</th>\n",
       "      <th>X COORDINATE</th>\n",
       "      <th>Y COORDINATE</th>\n",
       "      <th>LATITUDE</th>\n",
       "      <th>LONGITUDE</th>\n",
       "      <th>LOCATION</th>\n",
       "    </tr>\n",
       "  </thead>\n",
       "  <tbody>\n",
       "    <tr>\n",
       "      <th>105107</th>\n",
       "      <td>7518 S VINCENNES</td>\n",
       "      <td>CHI063</td>\n",
       "      <td>03/23/2017</td>\n",
       "      <td>9</td>\n",
       "      <td>1.175649e+06</td>\n",
       "      <td>1.855003e+06</td>\n",
       "      <td>41.757497</td>\n",
       "      <td>-87.631833</td>\n",
       "      <td>(41.75749703994495, -87.63183332832696)</td>\n",
       "    </tr>\n",
       "    <tr>\n",
       "      <th>105108</th>\n",
       "      <td>2900 W OGDEN</td>\n",
       "      <td>CHI021</td>\n",
       "      <td>03/23/2017</td>\n",
       "      <td>118</td>\n",
       "      <td>1.157136e+06</td>\n",
       "      <td>1.892362e+06</td>\n",
       "      <td>41.860408</td>\n",
       "      <td>-87.698672</td>\n",
       "      <td>(41.86040786445197, -87.69867209877323)</td>\n",
       "    </tr>\n",
       "    <tr>\n",
       "      <th>105109</th>\n",
       "      <td>515 S CENTRAL AVE</td>\n",
       "      <td>CHI057</td>\n",
       "      <td>03/23/2017</td>\n",
       "      <td>2</td>\n",
       "      <td>1.139183e+06</td>\n",
       "      <td>1.896945e+06</td>\n",
       "      <td>41.873329</td>\n",
       "      <td>-87.764460</td>\n",
       "      <td>(41.873329240103914, -87.76446041521123)</td>\n",
       "    </tr>\n",
       "    <tr>\n",
       "      <th>105110</th>\n",
       "      <td>4446 N BROADWAY</td>\n",
       "      <td>CHI097</td>\n",
       "      <td>03/23/2017</td>\n",
       "      <td>3</td>\n",
       "      <td>1.168459e+06</td>\n",
       "      <td>1.929792e+06</td>\n",
       "      <td>41.962881</td>\n",
       "      <td>-87.656024</td>\n",
       "      <td>(41.96288063517309, -87.6560244499908)</td>\n",
       "    </tr>\n",
       "    <tr>\n",
       "      <th>105111</th>\n",
       "      <td>2712 W IRVING PARK</td>\n",
       "      <td>CHI080</td>\n",
       "      <td>03/23/2017</td>\n",
       "      <td>15</td>\n",
       "      <td>1.157448e+06</td>\n",
       "      <td>1.926505e+06</td>\n",
       "      <td>41.954093</td>\n",
       "      <td>-87.696597</td>\n",
       "      <td>(41.954092657149786, -87.6965965016668)</td>\n",
       "    </tr>\n",
       "  </tbody>\n",
       "</table>\n",
       "</div>"
      ],
      "text/plain": [
       "                   ADDRESS CAMERA ID VIOLATION DATE  VIOLATIONS  X COORDINATE  \\\n",
       "105107    7518 S VINCENNES    CHI063     03/23/2017           9  1.175649e+06   \n",
       "105108        2900 W OGDEN    CHI021     03/23/2017         118  1.157136e+06   \n",
       "105109   515 S CENTRAL AVE    CHI057     03/23/2017           2  1.139183e+06   \n",
       "105110     4446 N BROADWAY    CHI097     03/23/2017           3  1.168459e+06   \n",
       "105111  2712 W IRVING PARK    CHI080     03/23/2017          15  1.157448e+06   \n",
       "\n",
       "        Y COORDINATE   LATITUDE  LONGITUDE  \\\n",
       "105107  1.855003e+06  41.757497 -87.631833   \n",
       "105108  1.892362e+06  41.860408 -87.698672   \n",
       "105109  1.896945e+06  41.873329 -87.764460   \n",
       "105110  1.929792e+06  41.962881 -87.656024   \n",
       "105111  1.926505e+06  41.954093 -87.696597   \n",
       "\n",
       "                                        LOCATION  \n",
       "105107   (41.75749703994495, -87.63183332832696)  \n",
       "105108   (41.86040786445197, -87.69867209877323)  \n",
       "105109  (41.873329240103914, -87.76446041521123)  \n",
       "105110    (41.96288063517309, -87.6560244499908)  \n",
       "105111   (41.954092657149786, -87.6965965016668)  "
      ]
     },
     "execution_count": 24,
     "metadata": {},
     "output_type": "execute_result"
    }
   ],
   "source": [
    "data.head()\n",
    "data.tail()"
   ]
  },
  {
   "cell_type": "markdown",
   "metadata": {},
   "source": [
    "We clean the data."
   ]
  },
  {
   "cell_type": "code",
   "execution_count": 29,
   "metadata": {
    "collapsed": false
   },
   "outputs": [],
   "source": [
    "data = data.dropna(how='any')"
   ]
  },
  {
   "cell_type": "markdown",
   "metadata": {},
   "source": [
    "We select the columns that we want."
   ]
  },
  {
   "cell_type": "code",
   "execution_count": 30,
   "metadata": {
    "collapsed": false
   },
   "outputs": [],
   "source": [
    "data = data[['ADDRESS','VIOLATION DATE','VIOLATIONS','LATITUDE','LONGITUDE']]"
   ]
  },
  {
   "cell_type": "code",
   "execution_count": 31,
   "metadata": {
    "collapsed": false
   },
   "outputs": [
    {
     "data": {
      "text/html": [
       "<div>\n",
       "<table border=\"1\" class=\"dataframe\">\n",
       "  <thead>\n",
       "    <tr style=\"text-align: right;\">\n",
       "      <th></th>\n",
       "      <th>ADDRESS</th>\n",
       "      <th>VIOLATION DATE</th>\n",
       "      <th>VIOLATIONS</th>\n",
       "      <th>LATITUDE</th>\n",
       "      <th>LONGITUDE</th>\n",
       "    </tr>\n",
       "  </thead>\n",
       "  <tbody>\n",
       "    <tr>\n",
       "      <th>148</th>\n",
       "      <td>2912 W ROOSEVELT</td>\n",
       "      <td>10/16/2014</td>\n",
       "      <td>25</td>\n",
       "      <td>41.866585</td>\n",
       "      <td>-87.698962</td>\n",
       "    </tr>\n",
       "    <tr>\n",
       "      <th>149</th>\n",
       "      <td>346 W 76th ST</td>\n",
       "      <td>10/16/2014</td>\n",
       "      <td>4</td>\n",
       "      <td>41.756374</td>\n",
       "      <td>-87.633817</td>\n",
       "    </tr>\n",
       "    <tr>\n",
       "      <th>150</th>\n",
       "      <td>11153 S VINCENNES</td>\n",
       "      <td>10/16/2014</td>\n",
       "      <td>6</td>\n",
       "      <td>41.690702</td>\n",
       "      <td>-87.664122</td>\n",
       "    </tr>\n",
       "    <tr>\n",
       "      <th>151</th>\n",
       "      <td>5454 W IRVING PARK</td>\n",
       "      <td>10/16/2014</td>\n",
       "      <td>82</td>\n",
       "      <td>41.953330</td>\n",
       "      <td>-87.764267</td>\n",
       "    </tr>\n",
       "    <tr>\n",
       "      <th>152</th>\n",
       "      <td>5446 W FULLERTON</td>\n",
       "      <td>10/16/2014</td>\n",
       "      <td>38</td>\n",
       "      <td>41.924128</td>\n",
       "      <td>-87.762994</td>\n",
       "    </tr>\n",
       "  </tbody>\n",
       "</table>\n",
       "</div>"
      ],
      "text/plain": [
       "                ADDRESS VIOLATION DATE  VIOLATIONS   LATITUDE  LONGITUDE\n",
       "148    2912 W ROOSEVELT     10/16/2014          25  41.866585 -87.698962\n",
       "149       346 W 76th ST     10/16/2014           4  41.756374 -87.633817\n",
       "150   11153 S VINCENNES     10/16/2014           6  41.690702 -87.664122\n",
       "151  5454 W IRVING PARK     10/16/2014          82  41.953330 -87.764267\n",
       "152    5446 W FULLERTON     10/16/2014          38  41.924128 -87.762994"
      ]
     },
     "execution_count": 31,
     "metadata": {},
     "output_type": "execute_result"
    }
   ],
   "source": [
    "data.head()"
   ]
  },
  {
   "cell_type": "markdown",
   "metadata": {},
   "source": [
    "We write a file with the clean data."
   ]
  },
  {
   "cell_type": "code",
   "execution_count": 32,
   "metadata": {
    "collapsed": true
   },
   "outputs": [],
   "source": [
    "data.to_csv('tableau.csv')"
   ]
  }
 ],
 "metadata": {
  "kernelspec": {
   "display_name": "Python 3",
   "language": "python",
   "name": "python3"
  },
  "language_info": {
   "codemirror_mode": {
    "name": "ipython",
    "version": 3
   },
   "file_extension": ".py",
   "mimetype": "text/x-python",
   "name": "python",
   "nbconvert_exporter": "python",
   "pygments_lexer": "ipython3",
   "version": "3.6.0"
  }
 },
 "nbformat": 4,
 "nbformat_minor": 2
}
