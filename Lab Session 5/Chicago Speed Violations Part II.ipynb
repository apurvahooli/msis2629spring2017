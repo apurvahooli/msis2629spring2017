{
 "cells": [
  {
   "cell_type": "markdown",
   "metadata": {
    "deletable": true,
    "editable": true
   },
   "source": [
    "# Speed violations in Chicago Part II"
   ]
  },
  {
   "cell_type": "markdown",
   "metadata": {
    "deletable": true,
    "editable": true
   },
   "source": [
    "In this lab session, we quickly wrangle a dataset and then move to Tableau."
   ]
  },
  {
   "cell_type": "markdown",
   "metadata": {},
   "source": [
    "The process:\n",
    "  * We add the data on the actual crashes/injuries (which was scrapped from a PDF).\n",
    "  * We take the data on the amount of speed violations from last class."
   ]
  },
  {
   "cell_type": "markdown",
   "metadata": {
    "deletable": true,
    "editable": true
   },
   "source": [
    "We import the pandas library for handling dataframes, Geocoder to map addresses, time to avoid query_overloads. \n",
    "We also enable multiple outputs."
   ]
  },
  {
   "cell_type": "code",
   "execution_count": 1,
   "metadata": {
    "collapsed": false,
    "deletable": true,
    "editable": true
   },
   "outputs": [],
   "source": [
    "import pandas as pd\n",
    "from pygeocoder import Geocoder\n",
    "import time\n",
    "from IPython.core.interactiveshell import InteractiveShell\n",
    "InteractiveShell.ast_node_interactivity = \"all\""
   ]
  },
  {
   "cell_type": "markdown",
   "metadata": {},
   "source": [
    "## Load and clean the dataset that contains actual incidents in Chicago"
   ]
  },
  {
   "cell_type": "markdown",
   "metadata": {},
   "source": [
    "We load the dataset with the incidents. The dataset was scrapped from a PDF and contains spaces that we do not want.\n",
    "We set the separator to remove the whitespaces."
   ]
  },
  {
   "cell_type": "code",
   "execution_count": 2,
   "metadata": {
    "collapsed": false,
    "deletable": true,
    "editable": true
   },
   "outputs": [],
   "source": [
    "incidents = pd.read_csv('incidents.csv', sep='\\s*;\\s*', header=0, engine='python')"
   ]
  },
  {
   "cell_type": "markdown",
   "metadata": {},
   "source": [
    "The file also contains a lot of empty rows, which we remove. For merging this data with other datasets, we capitalize the `Address` column."
   ]
  },
  {
   "cell_type": "code",
   "execution_count": 3,
   "metadata": {
    "collapsed": false,
    "deletable": true,
    "editable": true
   },
   "outputs": [],
   "source": [
    "incidents = incidents.dropna(how='any')\n",
    "incidents['Address'] = incidents['Address'].str.upper() "
   ]
  },
  {
   "cell_type": "markdown",
   "metadata": {},
   "source": [
    "We delete the `Unnamed: 0` column and polish the Name column"
   ]
  },
  {
   "cell_type": "code",
   "execution_count": 4,
   "metadata": {
    "collapsed": false,
    "deletable": true,
    "editable": true
   },
   "outputs": [],
   "source": [
    "del incidents['Unnamed: 0']\n",
    "incidents.rename(columns = {'Name 1':'Name'}, inplace = True)"
   ]
  },
  {
   "cell_type": "markdown",
   "metadata": {},
   "source": [
    "## Obtain the coordinates for the incidents"
   ]
  },
  {
   "cell_type": "markdown",
   "metadata": {},
   "source": [
    "The file with the incidents contains addresses but not coordinates. We need the coordinates to map the incidents."
   ]
  },
  {
   "cell_type": "markdown",
   "metadata": {
    "deletable": true,
    "editable": true
   },
   "source": [
    "An example of obtaining the coordinates from `Geocoder`."
   ]
  },
  {
   "cell_type": "code",
   "execution_count": null,
   "metadata": {
    "collapsed": false,
    "deletable": true,
    "editable": true
   },
   "outputs": [],
   "source": [
    "results = Geocoder.geocode('2620 W TOUHY AVE')\n",
    "results.coordinates"
   ]
  },
  {
   "cell_type": "markdown",
   "metadata": {},
   "source": [
    "We generate a list of all the addresses and add Chicago and Illinois to ensure that we get the correct coordinates."
   ]
  },
  {
   "cell_type": "code",
   "execution_count": 17,
   "metadata": {
    "collapsed": false,
    "deletable": true,
    "editable": true
   },
   "outputs": [],
   "source": [
    "addresses = (incidents['Address'] + ',' + 'Chicago' + ',' + 'IL').tolist()"
   ]
  },
  {
   "cell_type": "markdown",
   "metadata": {},
   "source": [
    "Google has query limits, so be careful that you do not violate them. Here, we play it easy and get the coordinates for on address at a time and store it. We backup the dataframe regularly. ** DO NOT RUN THIS PART IN CLASS - THE RESULT IS IN THE LAB FOLDER! **"
   ]
  },
  {
   "cell_type": "code",
   "execution_count": null,
   "metadata": {
    "collapsed": false,
    "deletable": true,
    "editable": true
   },
   "outputs": [],
   "source": [
    "codes = pd.DataFrame()\n",
    "geocode = dict()\n",
    "for address in addresses:\n",
    "    geocode['Address'] = address\n",
    "    geocode['Location'] = Geocoder.geocode(address).coordinates\n",
    "    codes = codes.append(geocode, ignore_index=True)\n",
    "    if len(codes) % 100 == 0:\n",
    "        codes.to_csv('codes.csv')\n",
    "    time.sleep(1)\n",
    "codes.to_csv('codes_clean.csv')"
   ]
  },
  {
   "cell_type": "markdown",
   "metadata": {},
   "source": [
    "We load the coordinates from the file and clean the file."
   ]
  },
  {
   "cell_type": "code",
   "execution_count": 5,
   "metadata": {
    "collapsed": false,
    "deletable": true,
    "editable": true
   },
   "outputs": [],
   "source": [
    "codes_clean = pd.read_csv('codes_clean.csv')\n",
    "#del codes_clean['Unnamed: 0']\n",
    "#codes_clean['Address'] = codes_clean.Address.str.replace(',Chicago,IL', '')\n",
    "codes_clean['Latitude'], codes_clean['Longitude'] = codes_clean['Location'].str.split(',',1).str\n",
    "codes_clean['Latitude'] = codes_clean['Latitude'].str.replace('(','')\n",
    "codes_clean['Longitude'] = codes_clean['Longitude'].str.replace(')','')"
   ]
  },
  {
   "cell_type": "markdown",
   "metadata": {},
   "source": [
    "We merge the coordinates with the incidents."
   ]
  },
  {
   "cell_type": "code",
   "execution_count": 6,
   "metadata": {
    "collapsed": false,
    "deletable": true,
    "editable": true
   },
   "outputs": [],
   "source": [
    "incidents = incidents.merge(codes_clean, how='left', left_on='Address', right_on='Address')"
   ]
  },
  {
   "cell_type": "markdown",
   "metadata": {},
   "source": [
    "We save the file."
   ]
  },
  {
   "cell_type": "code",
   "execution_count": 7,
   "metadata": {
    "collapsed": false,
    "deletable": true,
    "editable": true
   },
   "outputs": [],
   "source": [
    "incidents.to_csv('incidents_clean.csv', index=False)"
   ]
  },
  {
   "cell_type": "markdown",
   "metadata": {},
   "source": [
    "We load the data from last lab (**ADAPT THE PATH TO YOUR OS**). We use the location as unique identifier."
   ]
  },
  {
   "cell_type": "code",
   "execution_count": 8,
   "metadata": {
    "collapsed": false,
    "deletable": true,
    "editable": true
   },
   "outputs": [],
   "source": [
    "violation = pd.read_csv('../Lab Session 4/tableau.csv')\n",
    "violation['Location'] = violation.apply(lambda x:'(%s, %s)' % (x['LATITUDE'],x['LONGITUDE']),axis=1)"
   ]
  },
  {
   "cell_type": "markdown",
   "metadata": {},
   "source": [
    "We save the violations."
   ]
  },
  {
   "cell_type": "code",
   "execution_count": 9,
   "metadata": {
    "collapsed": false,
    "deletable": true,
    "editable": true
   },
   "outputs": [],
   "source": [
    "violation.to_csv('violations.csv', index=False)"
   ]
  },
  {
   "cell_type": "markdown",
   "metadata": {},
   "source": [
    "We develop a dataframe that only contains the locations from the incidents and the violations. This will help us to map it in Tableau later."
   ]
  },
  {
   "cell_type": "code",
   "execution_count": 10,
   "metadata": {
    "collapsed": false,
    "deletable": true,
    "editable": true
   },
   "outputs": [],
   "source": [
    "locations_violations = violation[['LATITUDE','LONGITUDE', 'Location']]\n",
    "locations_violations = locations_violations.rename(columns={'LATITUDE':'Latitude','LONGITUDE':'Longitude'})\n",
    "locations_incidents = incidents[['Location', 'Longitude','Latitude']]"
   ]
  },
  {
   "cell_type": "markdown",
   "metadata": {},
   "source": [
    "The violations contain multiple records for the same location. We drop them."
   ]
  },
  {
   "cell_type": "code",
   "execution_count": 11,
   "metadata": {
    "collapsed": false,
    "deletable": true,
    "editable": true
   },
   "outputs": [
    {
     "data": {
      "text/plain": [
       "1615"
      ]
     },
     "execution_count": 11,
     "metadata": {},
     "output_type": "execute_result"
    }
   ],
   "source": [
    "locations =pd.concat([locations_violations, locations_incidents], ignore_index=True)\n",
    "locations = locations.drop_duplicates()\n",
    "len(locations)"
   ]
  },
  {
   "cell_type": "markdown",
   "metadata": {},
   "source": [
    "We obtain the zip codes for the locations. This enables us to use zip codes to analyze the situation."
   ]
  },
  {
   "cell_type": "code",
   "execution_count": 17,
   "metadata": {
    "collapsed": false,
    "deletable": true,
    "editable": true
   },
   "outputs": [],
   "source": [
    "zip_codes = pd.DataFrame()\n",
    "zip_code = dict()\n",
    "for index,location in locations.iterrows():\n",
    "    zip_code['Location'] = location['Location']\n",
    "    zip_code['ZIP'] = Geocoder.reverse_geocode(float(location['Latitude']),float(location['Longitude'])).postal_code\n",
    "    zip_codes = zip_codes.append(zip_code, ignore_index=True)\n",
    "    if len(zip_codes) % 10 == 0:\n",
    "        zip_codes.to_csv('zip_codes.csv')\n",
    "    time.sleep(1)\n",
    "zip_codes.to_csv('zip_codes.csv')"
   ]
  },
  {
   "cell_type": "markdown",
   "metadata": {},
   "source": [
    "We merge the zip codes with the locations."
   ]
  },
  {
   "cell_type": "code",
   "execution_count": 20,
   "metadata": {
    "collapsed": false
   },
   "outputs": [
    {
     "data": {
      "text/html": [
       "<div>\n",
       "<table border=\"1\" class=\"dataframe\">\n",
       "  <thead>\n",
       "    <tr style=\"text-align: right;\">\n",
       "      <th></th>\n",
       "      <th>Latitude</th>\n",
       "      <th>Location</th>\n",
       "      <th>Longitude</th>\n",
       "      <th>ZIP</th>\n",
       "    </tr>\n",
       "  </thead>\n",
       "  <tbody>\n",
       "    <tr>\n",
       "      <th>0</th>\n",
       "      <td>41.8666</td>\n",
       "      <td>(41.866585283, -87.698962375)</td>\n",
       "      <td>-87.699</td>\n",
       "      <td>60612</td>\n",
       "    </tr>\n",
       "    <tr>\n",
       "      <th>1</th>\n",
       "      <td>41.7564</td>\n",
       "      <td>(41.756374355, -87.633816585)</td>\n",
       "      <td>-87.6338</td>\n",
       "      <td>60620</td>\n",
       "    </tr>\n",
       "    <tr>\n",
       "      <th>2</th>\n",
       "      <td>41.6907</td>\n",
       "      <td>(41.690701951, -87.664122385)</td>\n",
       "      <td>-87.6641</td>\n",
       "      <td>60643</td>\n",
       "    </tr>\n",
       "    <tr>\n",
       "      <th>3</th>\n",
       "      <td>41.9533</td>\n",
       "      <td>(41.953329545, -87.764267264)</td>\n",
       "      <td>-87.7643</td>\n",
       "      <td>60641</td>\n",
       "    </tr>\n",
       "    <tr>\n",
       "      <th>4</th>\n",
       "      <td>41.9241</td>\n",
       "      <td>(41.924128491, -87.762993999)</td>\n",
       "      <td>-87.763</td>\n",
       "      <td>60639</td>\n",
       "    </tr>\n",
       "    <tr>\n",
       "      <th>5</th>\n",
       "      <td>41.9382</td>\n",
       "      <td>(41.938181259000004, -87.787655485)</td>\n",
       "      <td>-87.7877</td>\n",
       "      <td>60634</td>\n",
       "    </tr>\n",
       "    <tr>\n",
       "      <th>6</th>\n",
       "      <td>41.8809</td>\n",
       "      <td>(41.880938186, -87.71789844899997)</td>\n",
       "      <td>-87.7179</td>\n",
       "      <td>60624</td>\n",
       "    </tr>\n",
       "    <tr>\n",
       "      <th>7</th>\n",
       "      <td>41.9557</td>\n",
       "      <td>(41.955725645, -87.76693812299999)</td>\n",
       "      <td>-87.7669</td>\n",
       "      <td>60634</td>\n",
       "    </tr>\n",
       "    <tr>\n",
       "      <th>8</th>\n",
       "      <td>41.691</td>\n",
       "      <td>(41.691025456, -87.66424769)</td>\n",
       "      <td>-87.6642</td>\n",
       "      <td>60643</td>\n",
       "    </tr>\n",
       "    <tr>\n",
       "      <th>9</th>\n",
       "      <td>41.9623</td>\n",
       "      <td>(41.96226556, -87.684566996)</td>\n",
       "      <td>-87.6846</td>\n",
       "      <td>60625</td>\n",
       "    </tr>\n",
       "    <tr>\n",
       "      <th>10</th>\n",
       "      <td>41.9393</td>\n",
       "      <td>(41.939258231, -87.72278142799999)</td>\n",
       "      <td>-87.7228</td>\n",
       "      <td>60618</td>\n",
       "    </tr>\n",
       "    <tr>\n",
       "      <th>11</th>\n",
       "      <td>41.7228</td>\n",
       "      <td>(41.722818321999995, -87.537567465)</td>\n",
       "      <td>-87.5376</td>\n",
       "      <td>60617</td>\n",
       "    </tr>\n",
       "    <tr>\n",
       "      <th>12</th>\n",
       "      <td>41.7219</td>\n",
       "      <td>(41.721878498, -87.621354328)</td>\n",
       "      <td>-87.6214</td>\n",
       "      <td>60619</td>\n",
       "    </tr>\n",
       "    <tr>\n",
       "      <th>13</th>\n",
       "      <td>41.99</td>\n",
       "      <td>(41.990042674, -87.745334319)</td>\n",
       "      <td>-87.7453</td>\n",
       "      <td>60646</td>\n",
       "    </tr>\n",
       "    <tr>\n",
       "      <th>14</th>\n",
       "      <td>41.723</td>\n",
       "      <td>(41.72304462, -87.53704075799999)</td>\n",
       "      <td>-87.537</td>\n",
       "      <td>60617</td>\n",
       "    </tr>\n",
       "    <tr>\n",
       "      <th>15</th>\n",
       "      <td>41.9898</td>\n",
       "      <td>(41.989807669, -87.74622580399998)</td>\n",
       "      <td>-87.7462</td>\n",
       "      <td>60646</td>\n",
       "    </tr>\n",
       "    <tr>\n",
       "      <th>16</th>\n",
       "      <td>41.89</td>\n",
       "      <td>(41.890037755, -87.620179034)</td>\n",
       "      <td>-87.6202</td>\n",
       "      <td>60611</td>\n",
       "    </tr>\n",
       "    <tr>\n",
       "      <th>17</th>\n",
       "      <td>41.8968</td>\n",
       "      <td>(41.896779126999995, -87.628781249)</td>\n",
       "      <td>-87.6288</td>\n",
       "      <td>60654</td>\n",
       "    </tr>\n",
       "    <tr>\n",
       "      <th>18</th>\n",
       "      <td>41.9262</td>\n",
       "      <td>(41.926207903000005, -87.668328977)</td>\n",
       "      <td>-87.6683</td>\n",
       "      <td>60614</td>\n",
       "    </tr>\n",
       "    <tr>\n",
       "      <th>19</th>\n",
       "      <td>41.7208</td>\n",
       "      <td>(41.720756806, -87.53543678700001)</td>\n",
       "      <td>-87.5354</td>\n",
       "      <td>60617</td>\n",
       "    </tr>\n",
       "    <tr>\n",
       "      <th>20</th>\n",
       "      <td>41.8901</td>\n",
       "      <td>(41.890122353, -87.620461395)</td>\n",
       "      <td>-87.6205</td>\n",
       "      <td>60611</td>\n",
       "    </tr>\n",
       "    <tr>\n",
       "      <th>21</th>\n",
       "      <td>41.8772</td>\n",
       "      <td>(41.877189405, -87.77036950200001)</td>\n",
       "      <td>-87.7704</td>\n",
       "      <td>60644</td>\n",
       "    </tr>\n",
       "    <tr>\n",
       "      <th>22</th>\n",
       "      <td>41.8408</td>\n",
       "      <td>(41.840812626, -87.64649261)</td>\n",
       "      <td>-87.6465</td>\n",
       "      <td>60608</td>\n",
       "    </tr>\n",
       "    <tr>\n",
       "      <th>23</th>\n",
       "      <td>41.9038</td>\n",
       "      <td>(41.903817103, -87.687194998)</td>\n",
       "      <td>-87.6872</td>\n",
       "      <td>60622</td>\n",
       "    </tr>\n",
       "    <tr>\n",
       "      <th>24</th>\n",
       "      <td>41.8954</td>\n",
       "      <td>(41.895448621, -87.727658471)</td>\n",
       "      <td>-87.7277</td>\n",
       "      <td>60651</td>\n",
       "    </tr>\n",
       "    <tr>\n",
       "      <th>25</th>\n",
       "      <td>41.8738</td>\n",
       "      <td>(41.873824205, -87.62774075899998)</td>\n",
       "      <td>-87.6277</td>\n",
       "      <td>60605</td>\n",
       "    </tr>\n",
       "    <tr>\n",
       "      <th>26</th>\n",
       "      <td>41.7937</td>\n",
       "      <td>(41.793702249, -87.687244272)</td>\n",
       "      <td>-87.6872</td>\n",
       "      <td>60629</td>\n",
       "    </tr>\n",
       "    <tr>\n",
       "      <th>27</th>\n",
       "      <td>41.9397</td>\n",
       "      <td>(41.939699007, -87.725074339)</td>\n",
       "      <td>-87.7251</td>\n",
       "      <td>60618</td>\n",
       "    </tr>\n",
       "    <tr>\n",
       "      <th>28</th>\n",
       "      <td>41.9182</td>\n",
       "      <td>(41.918231266, -87.76233705799999)</td>\n",
       "      <td>-87.7623</td>\n",
       "      <td>60639</td>\n",
       "    </tr>\n",
       "    <tr>\n",
       "      <th>29</th>\n",
       "      <td>41.9611</td>\n",
       "      <td>(41.961149383, -87.69696403399998)</td>\n",
       "      <td>-87.697</td>\n",
       "      <td>60618</td>\n",
       "    </tr>\n",
       "    <tr>\n",
       "      <th>...</th>\n",
       "      <td>...</td>\n",
       "      <td>...</td>\n",
       "      <td>...</td>\n",
       "      <td>...</td>\n",
       "    </tr>\n",
       "    <tr>\n",
       "      <th>1585</th>\n",
       "      <td>41.87824740000001</td>\n",
       "      <td>(41.87824740000001, -87.6636746)</td>\n",
       "      <td>-87.6636746</td>\n",
       "      <td>60607</td>\n",
       "    </tr>\n",
       "    <tr>\n",
       "      <th>1586</th>\n",
       "      <td>41.8507599</td>\n",
       "      <td>(41.8507599, -87.6747157)</td>\n",
       "      <td>-87.6747157</td>\n",
       "      <td>60608</td>\n",
       "    </tr>\n",
       "    <tr>\n",
       "      <th>1587</th>\n",
       "      <td>41.9080486</td>\n",
       "      <td>(41.9080486, -87.676738)</td>\n",
       "      <td>-87.676738</td>\n",
       "      <td>60622</td>\n",
       "    </tr>\n",
       "    <tr>\n",
       "      <th>1588</th>\n",
       "      <td>41.9367204</td>\n",
       "      <td>(41.9367204, -87.6728064)</td>\n",
       "      <td>-87.6728064</td>\n",
       "      <td>60657</td>\n",
       "    </tr>\n",
       "    <tr>\n",
       "      <th>1589</th>\n",
       "      <td>42.0072254</td>\n",
       "      <td>(42.0072254, -87.778526)</td>\n",
       "      <td>-87.778526</td>\n",
       "      <td>60646</td>\n",
       "    </tr>\n",
       "    <tr>\n",
       "      <th>1590</th>\n",
       "      <td>41.8441791</td>\n",
       "      <td>(41.8441791, -87.62886)</td>\n",
       "      <td>-87.62886</td>\n",
       "      <td>60616</td>\n",
       "    </tr>\n",
       "    <tr>\n",
       "      <th>1591</th>\n",
       "      <td>41.8353553</td>\n",
       "      <td>(41.8353553, -87.65559929999999)</td>\n",
       "      <td>-87.65559929999999</td>\n",
       "      <td>60608</td>\n",
       "    </tr>\n",
       "    <tr>\n",
       "      <th>1592</th>\n",
       "      <td>41.8319671</td>\n",
       "      <td>(41.8319671, -87.6546086)</td>\n",
       "      <td>-87.6546086</td>\n",
       "      <td>60608</td>\n",
       "    </tr>\n",
       "    <tr>\n",
       "      <th>1593</th>\n",
       "      <td>41.9646502</td>\n",
       "      <td>(41.9646502, -87.75836249999999)</td>\n",
       "      <td>-87.75836249999999</td>\n",
       "      <td>60630</td>\n",
       "    </tr>\n",
       "    <tr>\n",
       "      <th>1594</th>\n",
       "      <td>41.972328</td>\n",
       "      <td>(41.972328, -87.6841544)</td>\n",
       "      <td>-87.6841544</td>\n",
       "      <td>60625</td>\n",
       "    </tr>\n",
       "    <tr>\n",
       "      <th>1595</th>\n",
       "      <td>41.77422600000001</td>\n",
       "      <td>(41.77422600000001, -87.67101199999999)</td>\n",
       "      <td>-87.67101199999999</td>\n",
       "      <td>60636</td>\n",
       "    </tr>\n",
       "    <tr>\n",
       "      <th>1596</th>\n",
       "      <td>41.6989526</td>\n",
       "      <td>(41.6989526, -87.54351369999999)</td>\n",
       "      <td>-87.54351369999999</td>\n",
       "      <td>60617</td>\n",
       "    </tr>\n",
       "    <tr>\n",
       "      <th>1597</th>\n",
       "      <td>41.9841393</td>\n",
       "      <td>(41.9841393, -87.7286602)</td>\n",
       "      <td>-87.7286602</td>\n",
       "      <td>60646</td>\n",
       "    </tr>\n",
       "    <tr>\n",
       "      <th>1598</th>\n",
       "      <td>41.9347229</td>\n",
       "      <td>(41.9347229, -87.68353549999999)</td>\n",
       "      <td>-87.68353549999999</td>\n",
       "      <td>60618</td>\n",
       "    </tr>\n",
       "    <tr>\n",
       "      <th>1599</th>\n",
       "      <td>41.7621703</td>\n",
       "      <td>(41.7621703, -87.58372039999999)</td>\n",
       "      <td>-87.58372039999999</td>\n",
       "      <td>60649</td>\n",
       "    </tr>\n",
       "    <tr>\n",
       "      <th>1600</th>\n",
       "      <td>41.773523</td>\n",
       "      <td>(41.773523, -87.594026)</td>\n",
       "      <td>-87.594026</td>\n",
       "      <td>60637</td>\n",
       "    </tr>\n",
       "    <tr>\n",
       "      <th>1601</th>\n",
       "      <td>41.7809332</td>\n",
       "      <td>(41.7809332, -87.65515549999999)</td>\n",
       "      <td>-87.65515549999999</td>\n",
       "      <td>60636</td>\n",
       "    </tr>\n",
       "    <tr>\n",
       "      <th>1602</th>\n",
       "      <td>41.8140835</td>\n",
       "      <td>(41.8140835, -87.6087663)</td>\n",
       "      <td>-87.6087663</td>\n",
       "      <td>60653</td>\n",
       "    </tr>\n",
       "    <tr>\n",
       "      <th>1603</th>\n",
       "      <td>41.812723</td>\n",
       "      <td>(41.812723, -87.6078149)</td>\n",
       "      <td>-87.6078149</td>\n",
       "      <td>60653</td>\n",
       "    </tr>\n",
       "    <tr>\n",
       "      <th>1604</th>\n",
       "      <td>41.9282184</td>\n",
       "      <td>(41.9282184, -87.6664639)</td>\n",
       "      <td>-87.6664639</td>\n",
       "      <td>60614</td>\n",
       "    </tr>\n",
       "    <tr>\n",
       "      <th>1605</th>\n",
       "      <td>41.7667468</td>\n",
       "      <td>(41.7667468, -87.6318469)</td>\n",
       "      <td>-87.6318469</td>\n",
       "      <td>60621</td>\n",
       "    </tr>\n",
       "    <tr>\n",
       "      <th>1606</th>\n",
       "      <td>41.9147452</td>\n",
       "      <td>(41.9147452, -87.6997978)</td>\n",
       "      <td>-87.6997978</td>\n",
       "      <td>60647</td>\n",
       "    </tr>\n",
       "    <tr>\n",
       "      <th>1607</th>\n",
       "      <td>42.012417</td>\n",
       "      <td>(42.012417, -87.69596899999999)</td>\n",
       "      <td>-87.69596899999999</td>\n",
       "      <td>60645</td>\n",
       "    </tr>\n",
       "    <tr>\n",
       "      <th>1608</th>\n",
       "      <td>42.0121989</td>\n",
       "      <td>(42.0121989, -87.7062863)</td>\n",
       "      <td>-87.7062863</td>\n",
       "      <td>60645</td>\n",
       "    </tr>\n",
       "    <tr>\n",
       "      <th>1609</th>\n",
       "      <td>41.9929569</td>\n",
       "      <td>(41.9929569, -87.6997892)</td>\n",
       "      <td>-87.6997892</td>\n",
       "      <td>60659</td>\n",
       "    </tr>\n",
       "    <tr>\n",
       "      <th>1610</th>\n",
       "      <td>41.9064241</td>\n",
       "      <td>(41.9064241, -87.7676047)</td>\n",
       "      <td>-87.7676047</td>\n",
       "      <td>60651</td>\n",
       "    </tr>\n",
       "    <tr>\n",
       "      <th>1611</th>\n",
       "      <td>41.8444179</td>\n",
       "      <td>(41.8444179, -87.61848169999999)</td>\n",
       "      <td>-87.61848169999999</td>\n",
       "      <td>60616</td>\n",
       "    </tr>\n",
       "    <tr>\n",
       "      <th>1612</th>\n",
       "      <td>41.8313786</td>\n",
       "      <td>(41.8313786, -87.627231)</td>\n",
       "      <td>-87.627231</td>\n",
       "      <td>60616</td>\n",
       "    </tr>\n",
       "    <tr>\n",
       "      <th>1613</th>\n",
       "      <td>41.8412173</td>\n",
       "      <td>(41.8412173, -87.7344897)</td>\n",
       "      <td>-87.7344897</td>\n",
       "      <td>60623</td>\n",
       "    </tr>\n",
       "    <tr>\n",
       "      <th>1614</th>\n",
       "      <td>41.9592537</td>\n",
       "      <td>(41.9592537, -87.67234169999999)</td>\n",
       "      <td>-87.67234169999999</td>\n",
       "      <td>60613</td>\n",
       "    </tr>\n",
       "  </tbody>\n",
       "</table>\n",
       "<p>1615 rows × 4 columns</p>\n",
       "</div>"
      ],
      "text/plain": [
       "               Latitude                                 Location  \\\n",
       "0               41.8666            (41.866585283, -87.698962375)   \n",
       "1               41.7564            (41.756374355, -87.633816585)   \n",
       "2               41.6907            (41.690701951, -87.664122385)   \n",
       "3               41.9533            (41.953329545, -87.764267264)   \n",
       "4               41.9241            (41.924128491, -87.762993999)   \n",
       "5               41.9382      (41.938181259000004, -87.787655485)   \n",
       "6               41.8809       (41.880938186, -87.71789844899997)   \n",
       "7               41.9557       (41.955725645, -87.76693812299999)   \n",
       "8                41.691             (41.691025456, -87.66424769)   \n",
       "9               41.9623             (41.96226556, -87.684566996)   \n",
       "10              41.9393       (41.939258231, -87.72278142799999)   \n",
       "11              41.7228      (41.722818321999995, -87.537567465)   \n",
       "12              41.7219            (41.721878498, -87.621354328)   \n",
       "13                41.99            (41.990042674, -87.745334319)   \n",
       "14               41.723        (41.72304462, -87.53704075799999)   \n",
       "15              41.9898       (41.989807669, -87.74622580399998)   \n",
       "16                41.89            (41.890037755, -87.620179034)   \n",
       "17              41.8968      (41.896779126999995, -87.628781249)   \n",
       "18              41.9262      (41.926207903000005, -87.668328977)   \n",
       "19              41.7208       (41.720756806, -87.53543678700001)   \n",
       "20              41.8901            (41.890122353, -87.620461395)   \n",
       "21              41.8772       (41.877189405, -87.77036950200001)   \n",
       "22              41.8408             (41.840812626, -87.64649261)   \n",
       "23              41.9038            (41.903817103, -87.687194998)   \n",
       "24              41.8954            (41.895448621, -87.727658471)   \n",
       "25              41.8738       (41.873824205, -87.62774075899998)   \n",
       "26              41.7937            (41.793702249, -87.687244272)   \n",
       "27              41.9397            (41.939699007, -87.725074339)   \n",
       "28              41.9182       (41.918231266, -87.76233705799999)   \n",
       "29              41.9611       (41.961149383, -87.69696403399998)   \n",
       "...                 ...                                      ...   \n",
       "1585  41.87824740000001         (41.87824740000001, -87.6636746)   \n",
       "1586         41.8507599                (41.8507599, -87.6747157)   \n",
       "1587         41.9080486                 (41.9080486, -87.676738)   \n",
       "1588         41.9367204                (41.9367204, -87.6728064)   \n",
       "1589         42.0072254                 (42.0072254, -87.778526)   \n",
       "1590         41.8441791                  (41.8441791, -87.62886)   \n",
       "1591         41.8353553         (41.8353553, -87.65559929999999)   \n",
       "1592         41.8319671                (41.8319671, -87.6546086)   \n",
       "1593         41.9646502         (41.9646502, -87.75836249999999)   \n",
       "1594          41.972328                 (41.972328, -87.6841544)   \n",
       "1595  41.77422600000001  (41.77422600000001, -87.67101199999999)   \n",
       "1596         41.6989526         (41.6989526, -87.54351369999999)   \n",
       "1597         41.9841393                (41.9841393, -87.7286602)   \n",
       "1598         41.9347229         (41.9347229, -87.68353549999999)   \n",
       "1599         41.7621703         (41.7621703, -87.58372039999999)   \n",
       "1600          41.773523                  (41.773523, -87.594026)   \n",
       "1601         41.7809332         (41.7809332, -87.65515549999999)   \n",
       "1602         41.8140835                (41.8140835, -87.6087663)   \n",
       "1603          41.812723                 (41.812723, -87.6078149)   \n",
       "1604         41.9282184                (41.9282184, -87.6664639)   \n",
       "1605         41.7667468                (41.7667468, -87.6318469)   \n",
       "1606         41.9147452                (41.9147452, -87.6997978)   \n",
       "1607          42.012417          (42.012417, -87.69596899999999)   \n",
       "1608         42.0121989                (42.0121989, -87.7062863)   \n",
       "1609         41.9929569                (41.9929569, -87.6997892)   \n",
       "1610         41.9064241                (41.9064241, -87.7676047)   \n",
       "1611         41.8444179         (41.8444179, -87.61848169999999)   \n",
       "1612         41.8313786                 (41.8313786, -87.627231)   \n",
       "1613         41.8412173                (41.8412173, -87.7344897)   \n",
       "1614         41.9592537         (41.9592537, -87.67234169999999)   \n",
       "\n",
       "                Longitude    ZIP  \n",
       "0                 -87.699  60612  \n",
       "1                -87.6338  60620  \n",
       "2                -87.6641  60643  \n",
       "3                -87.7643  60641  \n",
       "4                 -87.763  60639  \n",
       "5                -87.7877  60634  \n",
       "6                -87.7179  60624  \n",
       "7                -87.7669  60634  \n",
       "8                -87.6642  60643  \n",
       "9                -87.6846  60625  \n",
       "10               -87.7228  60618  \n",
       "11               -87.5376  60617  \n",
       "12               -87.6214  60619  \n",
       "13               -87.7453  60646  \n",
       "14                -87.537  60617  \n",
       "15               -87.7462  60646  \n",
       "16               -87.6202  60611  \n",
       "17               -87.6288  60654  \n",
       "18               -87.6683  60614  \n",
       "19               -87.5354  60617  \n",
       "20               -87.6205  60611  \n",
       "21               -87.7704  60644  \n",
       "22               -87.6465  60608  \n",
       "23               -87.6872  60622  \n",
       "24               -87.7277  60651  \n",
       "25               -87.6277  60605  \n",
       "26               -87.6872  60629  \n",
       "27               -87.7251  60618  \n",
       "28               -87.7623  60639  \n",
       "29                -87.697  60618  \n",
       "...                   ...    ...  \n",
       "1585          -87.6636746  60607  \n",
       "1586          -87.6747157  60608  \n",
       "1587           -87.676738  60622  \n",
       "1588          -87.6728064  60657  \n",
       "1589           -87.778526  60646  \n",
       "1590            -87.62886  60616  \n",
       "1591   -87.65559929999999  60608  \n",
       "1592          -87.6546086  60608  \n",
       "1593   -87.75836249999999  60630  \n",
       "1594          -87.6841544  60625  \n",
       "1595   -87.67101199999999  60636  \n",
       "1596   -87.54351369999999  60617  \n",
       "1597          -87.7286602  60646  \n",
       "1598   -87.68353549999999  60618  \n",
       "1599   -87.58372039999999  60649  \n",
       "1600           -87.594026  60637  \n",
       "1601   -87.65515549999999  60636  \n",
       "1602          -87.6087663  60653  \n",
       "1603          -87.6078149  60653  \n",
       "1604          -87.6664639  60614  \n",
       "1605          -87.6318469  60621  \n",
       "1606          -87.6997978  60647  \n",
       "1607   -87.69596899999999  60645  \n",
       "1608          -87.7062863  60645  \n",
       "1609          -87.6997892  60659  \n",
       "1610          -87.7676047  60651  \n",
       "1611   -87.61848169999999  60616  \n",
       "1612           -87.627231  60616  \n",
       "1613          -87.7344897  60623  \n",
       "1614   -87.67234169999999  60613  \n",
       "\n",
       "[1615 rows x 4 columns]"
      ]
     },
     "execution_count": 20,
     "metadata": {},
     "output_type": "execute_result"
    }
   ],
   "source": [
    "locations = locations.merge(zip_codes)\n",
    "locations"
   ]
  },
  {
   "cell_type": "markdown",
   "metadata": {},
   "source": [
    "An example for reverse geocoding."
   ]
  },
  {
   "cell_type": "code",
   "execution_count": 12,
   "metadata": {
    "collapsed": false,
    "deletable": true,
    "editable": true
   },
   "outputs": [
    {
     "data": {
      "text/plain": [
       "'60612'"
      ]
     },
     "execution_count": 12,
     "metadata": {},
     "output_type": "execute_result"
    }
   ],
   "source": [
    "results = Geocoder.reverse_geocode(locations['Latitude'][0],locations['Longitude'][0]).postal_code\n",
    "results"
   ]
  },
  {
   "cell_type": "code",
   "execution_count": 22,
   "metadata": {
    "collapsed": false,
    "deletable": true,
    "editable": true
   },
   "outputs": [],
   "source": [
    "locations.to_csv('locations.csv', index=False)"
   ]
  },
  {
   "cell_type": "code",
   "execution_count": null,
   "metadata": {
    "collapsed": true,
    "deletable": true,
    "editable": true
   },
   "outputs": [],
   "source": []
  }
 ],
 "metadata": {
  "kernelspec": {
   "display_name": "Python 3",
   "language": "python",
   "name": "python3"
  },
  "language_info": {
   "codemirror_mode": {
    "name": "ipython",
    "version": 3
   },
   "file_extension": ".py",
   "mimetype": "text/x-python",
   "name": "python",
   "nbconvert_exporter": "python",
   "pygments_lexer": "ipython3",
   "version": "3.6.0"
  }
 },
 "nbformat": 4,
 "nbformat_minor": 2
}
